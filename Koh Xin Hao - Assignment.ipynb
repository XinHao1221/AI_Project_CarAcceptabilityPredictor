{
 "cells": [
  {
   "cell_type": "markdown",
   "metadata": {},
   "source": [
    "# 1.0 Prepare the data"
   ]
  },
  {
   "cell_type": "markdown",
   "metadata": {},
   "source": [
    "## Read data from dataset"
   ]
  },
  {
   "cell_type": "code",
   "execution_count": 1,
   "metadata": {},
   "outputs": [
    {
     "data": {
      "text/html": [
       "<div>\n",
       "<style scoped>\n",
       "    .dataframe tbody tr th:only-of-type {\n",
       "        vertical-align: middle;\n",
       "    }\n",
       "\n",
       "    .dataframe tbody tr th {\n",
       "        vertical-align: top;\n",
       "    }\n",
       "\n",
       "    .dataframe thead th {\n",
       "        text-align: right;\n",
       "    }\n",
       "</style>\n",
       "<table border=\"1\" class=\"dataframe\">\n",
       "  <thead>\n",
       "    <tr style=\"text-align: right;\">\n",
       "      <th></th>\n",
       "      <th>buy_price</th>\n",
       "      <th>maintenance_costs</th>\n",
       "      <th>num_doors</th>\n",
       "      <th>persons</th>\n",
       "      <th>trunk_size</th>\n",
       "      <th>safety</th>\n",
       "      <th>overall_score</th>\n",
       "    </tr>\n",
       "  </thead>\n",
       "  <tbody>\n",
       "    <tr>\n",
       "      <th>0</th>\n",
       "      <td>vhigh</td>\n",
       "      <td>vhigh</td>\n",
       "      <td>2</td>\n",
       "      <td>2</td>\n",
       "      <td>small</td>\n",
       "      <td>low</td>\n",
       "      <td>unacc</td>\n",
       "    </tr>\n",
       "    <tr>\n",
       "      <th>1</th>\n",
       "      <td>vhigh</td>\n",
       "      <td>vhigh</td>\n",
       "      <td>2</td>\n",
       "      <td>2</td>\n",
       "      <td>small</td>\n",
       "      <td>med</td>\n",
       "      <td>unacc</td>\n",
       "    </tr>\n",
       "    <tr>\n",
       "      <th>2</th>\n",
       "      <td>vhigh</td>\n",
       "      <td>vhigh</td>\n",
       "      <td>2</td>\n",
       "      <td>2</td>\n",
       "      <td>small</td>\n",
       "      <td>high</td>\n",
       "      <td>unacc</td>\n",
       "    </tr>\n",
       "    <tr>\n",
       "      <th>3</th>\n",
       "      <td>vhigh</td>\n",
       "      <td>vhigh</td>\n",
       "      <td>2</td>\n",
       "      <td>2</td>\n",
       "      <td>med</td>\n",
       "      <td>low</td>\n",
       "      <td>unacc</td>\n",
       "    </tr>\n",
       "    <tr>\n",
       "      <th>4</th>\n",
       "      <td>vhigh</td>\n",
       "      <td>vhigh</td>\n",
       "      <td>2</td>\n",
       "      <td>2</td>\n",
       "      <td>med</td>\n",
       "      <td>med</td>\n",
       "      <td>unacc</td>\n",
       "    </tr>\n",
       "  </tbody>\n",
       "</table>\n",
       "</div>"
      ],
      "text/plain": [
       "  buy_price maintenance_costs num_doors persons trunk_size safety  \\\n",
       "0     vhigh             vhigh         2       2      small    low   \n",
       "1     vhigh             vhigh         2       2      small    med   \n",
       "2     vhigh             vhigh         2       2      small   high   \n",
       "3     vhigh             vhigh         2       2        med    low   \n",
       "4     vhigh             vhigh         2       2        med    med   \n",
       "\n",
       "  overall_score  \n",
       "0         unacc  \n",
       "1         unacc  \n",
       "2         unacc  \n",
       "3         unacc  \n",
       "4         unacc  "
      ]
     },
     "execution_count": 1,
     "metadata": {},
     "output_type": "execute_result"
    }
   ],
   "source": [
    "import nltk\n",
    "import pandas as pd\n",
    "import numpy as np\n",
    "\n",
    "# read data from dataset\n",
    "data = pd.read_csv('car_evaluation.csv')\n",
    "\n",
    "# print dataset value\n",
    "data.head(5)\n"
   ]
  },
  {
   "cell_type": "code",
   "execution_count": 2,
   "metadata": {},
   "outputs": [
    {
     "name": "stdout",
     "output_type": "stream",
     "text": [
      "Number of rows:  (1728, 7)\n"
     ]
    }
   ],
   "source": [
    "# Display no of rows\n",
    "print(\"Number of rows: \", data.shape)"
   ]
  },
  {
   "cell_type": "markdown",
   "metadata": {},
   "source": [
    "## Rename the columns"
   ]
  },
  {
   "cell_type": "code",
   "execution_count": 3,
   "metadata": {},
   "outputs": [],
   "source": [
    "data = data.rename(columns={\"buy_price\": \"Price\"})\n",
    "data = data.rename(columns={\"maintenance_costs\": \"Maintenance Costs\"})\n",
    "data = data.rename(columns={\"num_doors\": \"No of Doors\"})\n",
    "data = data.rename(columns={\"persons\": \"No of Passengers\"})\n",
    "data = data.rename(columns={\"trunk_size\": \"Trunk Size\"})\n",
    "data = data.rename(columns={\"safety\": \"Safety\"})\n",
    "data = data.rename(columns={\"overall_score\": \"Acceptability\"})"
   ]
  },
  {
   "cell_type": "code",
   "execution_count": 4,
   "metadata": {},
   "outputs": [
    {
     "data": {
      "text/html": [
       "<div>\n",
       "<style scoped>\n",
       "    .dataframe tbody tr th:only-of-type {\n",
       "        vertical-align: middle;\n",
       "    }\n",
       "\n",
       "    .dataframe tbody tr th {\n",
       "        vertical-align: top;\n",
       "    }\n",
       "\n",
       "    .dataframe thead th {\n",
       "        text-align: right;\n",
       "    }\n",
       "</style>\n",
       "<table border=\"1\" class=\"dataframe\">\n",
       "  <thead>\n",
       "    <tr style=\"text-align: right;\">\n",
       "      <th></th>\n",
       "      <th>Price</th>\n",
       "      <th>Maintenance Costs</th>\n",
       "      <th>No of Doors</th>\n",
       "      <th>No of Passengers</th>\n",
       "      <th>Trunk Size</th>\n",
       "      <th>Safety</th>\n",
       "      <th>Acceptability</th>\n",
       "    </tr>\n",
       "  </thead>\n",
       "  <tbody>\n",
       "    <tr>\n",
       "      <th>0</th>\n",
       "      <td>vhigh</td>\n",
       "      <td>vhigh</td>\n",
       "      <td>2</td>\n",
       "      <td>2</td>\n",
       "      <td>small</td>\n",
       "      <td>low</td>\n",
       "      <td>unacc</td>\n",
       "    </tr>\n",
       "    <tr>\n",
       "      <th>1</th>\n",
       "      <td>vhigh</td>\n",
       "      <td>vhigh</td>\n",
       "      <td>2</td>\n",
       "      <td>2</td>\n",
       "      <td>small</td>\n",
       "      <td>med</td>\n",
       "      <td>unacc</td>\n",
       "    </tr>\n",
       "    <tr>\n",
       "      <th>2</th>\n",
       "      <td>vhigh</td>\n",
       "      <td>vhigh</td>\n",
       "      <td>2</td>\n",
       "      <td>2</td>\n",
       "      <td>small</td>\n",
       "      <td>high</td>\n",
       "      <td>unacc</td>\n",
       "    </tr>\n",
       "    <tr>\n",
       "      <th>3</th>\n",
       "      <td>vhigh</td>\n",
       "      <td>vhigh</td>\n",
       "      <td>2</td>\n",
       "      <td>2</td>\n",
       "      <td>med</td>\n",
       "      <td>low</td>\n",
       "      <td>unacc</td>\n",
       "    </tr>\n",
       "    <tr>\n",
       "      <th>4</th>\n",
       "      <td>vhigh</td>\n",
       "      <td>vhigh</td>\n",
       "      <td>2</td>\n",
       "      <td>2</td>\n",
       "      <td>med</td>\n",
       "      <td>med</td>\n",
       "      <td>unacc</td>\n",
       "    </tr>\n",
       "  </tbody>\n",
       "</table>\n",
       "</div>"
      ],
      "text/plain": [
       "   Price Maintenance Costs No of Doors No of Passengers Trunk Size Safety  \\\n",
       "0  vhigh             vhigh           2                2      small    low   \n",
       "1  vhigh             vhigh           2                2      small    med   \n",
       "2  vhigh             vhigh           2                2      small   high   \n",
       "3  vhigh             vhigh           2                2        med    low   \n",
       "4  vhigh             vhigh           2                2        med    med   \n",
       "\n",
       "  Acceptability  \n",
       "0         unacc  \n",
       "1         unacc  \n",
       "2         unacc  \n",
       "3         unacc  \n",
       "4         unacc  "
      ]
     },
     "execution_count": 4,
     "metadata": {},
     "output_type": "execute_result"
    }
   ],
   "source": [
    "# Updated table columns\n",
    "data.head(5)"
   ]
  },
  {
   "cell_type": "markdown",
   "metadata": {},
   "source": [
    "## Data Preprocessing"
   ]
  },
  {
   "cell_type": "markdown",
   "metadata": {},
   "source": [
    "Preprocess the data read from dataset to improve the accuracy of the model."
   ]
  },
  {
   "cell_type": "markdown",
   "metadata": {},
   "source": [
    "## Check for missing attribute"
   ]
  },
  {
   "cell_type": "code",
   "execution_count": 5,
   "metadata": {
    "scrolled": false
   },
   "outputs": [
    {
     "name": "stdout",
     "output_type": "stream",
     "text": [
      "Total Number of missing value found: \n",
      "\n",
      "Price                0\n",
      "Maintenance Costs    0\n",
      "No of Doors          0\n",
      "No of Passengers     0\n",
      "Trunk Size           0\n",
      "Safety               0\n",
      "Acceptability        0\n",
      "dtype: int64\n"
     ]
    }
   ],
   "source": [
    "print(\"Total Number of missing value found: \\n\")\n",
    "print(data.isnull().sum())"
   ]
  },
  {
   "cell_type": "markdown",
   "metadata": {},
   "source": [
    "No missing values was found inside the dataset."
   ]
  },
  {
   "cell_type": "code",
   "execution_count": 6,
   "metadata": {},
   "outputs": [
    {
     "data": {
      "text/plain": [
       "Price                object\n",
       "Maintenance Costs    object\n",
       "No of Doors          object\n",
       "No of Passengers     object\n",
       "Trunk Size           object\n",
       "Safety               object\n",
       "Acceptability        object\n",
       "dtype: object"
      ]
     },
     "execution_count": 6,
     "metadata": {},
     "output_type": "execute_result"
    }
   ],
   "source": [
    "# display datatype for all table variables\n",
    "data.dtypes"
   ]
  },
  {
   "cell_type": "markdown",
   "metadata": {},
   "source": [
    "## Make the data homogeneous"
   ]
  },
  {
   "cell_type": "code",
   "execution_count": 7,
   "metadata": {},
   "outputs": [],
   "source": [
    "# Make all the data from the dataset become lowercase\n",
    "\n",
    "data['Price'] = data['Price'].str.lower()\n",
    "data['Maintenance Costs'] = data['Maintenance Costs'].str.lower()\n",
    "data['No of Doors'] = data['No of Doors'].str.lower()\n",
    "data['No of Passengers'] = data['No of Passengers'].str.lower()\n",
    "data['Trunk Size'] = data['Trunk Size'].str.lower()\n",
    "data['Safety'] = data['Safety'].str.lower()\n",
    "data['Acceptability'] = data['Acceptability'].str.lower()"
   ]
  },
  {
   "cell_type": "markdown",
   "metadata": {},
   "source": [
    "## Identify duplicate rows"
   ]
  },
  {
   "cell_type": "code",
   "execution_count": 8,
   "metadata": {
    "scrolled": true
   },
   "outputs": [
    {
     "name": "stdout",
     "output_type": "stream",
     "text": [
      "Number of duplicate rows:  (0, 7)\n"
     ]
    }
   ],
   "source": [
    "# Check no of rows containing duplicate data\n",
    "duplicate_rows_data = data[data.duplicated()]\n",
    "print(\"Number of duplicate rows: \", duplicate_rows_data.shape)\n"
   ]
  },
  {
   "cell_type": "code",
   "execution_count": 9,
   "metadata": {},
   "outputs": [
    {
     "data": {
      "text/plain": [
       "Price                1728\n",
       "Maintenance Costs    1728\n",
       "No of Doors          1728\n",
       "No of Passengers     1728\n",
       "Trunk Size           1728\n",
       "Safety               1728\n",
       "Acceptability        1728\n",
       "dtype: int64"
      ]
     },
     "execution_count": 9,
     "metadata": {},
     "output_type": "execute_result"
    }
   ],
   "source": [
    "# Display no of rows for each column\n",
    "data.count()"
   ]
  },
  {
   "cell_type": "markdown",
   "metadata": {},
   "source": [
    "Since there are no any duplicate data, dropping process is no needed."
   ]
  },
  {
   "cell_type": "markdown",
   "metadata": {},
   "source": [
    "## Encode the data into numeric format"
   ]
  },
  {
   "cell_type": "markdown",
   "metadata": {},
   "source": [
    "Encode the string variables into numeric format. This is because, machine can only understand number instad of string and character."
   ]
  },
  {
   "cell_type": "markdown",
   "metadata": {},
   "source": [
    "Display variable for each column inside the dataset"
   ]
  },
  {
   "cell_type": "code",
   "execution_count": 10,
   "metadata": {
    "scrolled": true
   },
   "outputs": [
    {
     "data": {
      "text/plain": [
       "high     432\n",
       "vhigh    432\n",
       "med      432\n",
       "low      432\n",
       "Name: Price, dtype: int64"
      ]
     },
     "execution_count": 10,
     "metadata": {},
     "output_type": "execute_result"
    }
   ],
   "source": [
    "# Display variable for Price\n",
    "data['Price'].value_counts()"
   ]
  },
  {
   "cell_type": "code",
   "execution_count": 11,
   "metadata": {},
   "outputs": [
    {
     "data": {
      "text/plain": [
       "high     432\n",
       "vhigh    432\n",
       "med      432\n",
       "low      432\n",
       "Name: Maintenance Costs, dtype: int64"
      ]
     },
     "execution_count": 11,
     "metadata": {},
     "output_type": "execute_result"
    }
   ],
   "source": [
    "# Display variable for Maintenance Costs\n",
    "data['Maintenance Costs'].value_counts()"
   ]
  },
  {
   "cell_type": "code",
   "execution_count": 12,
   "metadata": {},
   "outputs": [
    {
     "data": {
      "text/plain": [
       "3        432\n",
       "5more    432\n",
       "4        432\n",
       "2        432\n",
       "Name: No of Doors, dtype: int64"
      ]
     },
     "execution_count": 12,
     "metadata": {},
     "output_type": "execute_result"
    }
   ],
   "source": [
    "# Display variable for No of Doors\n",
    "data['No of Doors'].value_counts()"
   ]
  },
  {
   "cell_type": "code",
   "execution_count": 13,
   "metadata": {},
   "outputs": [
    {
     "data": {
      "text/plain": [
       "4       576\n",
       "more    576\n",
       "2       576\n",
       "Name: No of Passengers, dtype: int64"
      ]
     },
     "execution_count": 13,
     "metadata": {},
     "output_type": "execute_result"
    }
   ],
   "source": [
    "# Display variable for No of Passengers\n",
    "data['No of Passengers'].value_counts()"
   ]
  },
  {
   "cell_type": "code",
   "execution_count": 14,
   "metadata": {},
   "outputs": [
    {
     "data": {
      "text/plain": [
       "med      576\n",
       "small    576\n",
       "big      576\n",
       "Name: Trunk Size, dtype: int64"
      ]
     },
     "execution_count": 14,
     "metadata": {},
     "output_type": "execute_result"
    }
   ],
   "source": [
    "# Display variable for Trunk Size\n",
    "data['Trunk Size'].value_counts()"
   ]
  },
  {
   "cell_type": "code",
   "execution_count": 15,
   "metadata": {},
   "outputs": [
    {
     "data": {
      "text/plain": [
       "high    576\n",
       "med     576\n",
       "low     576\n",
       "Name: Safety, dtype: int64"
      ]
     },
     "execution_count": 15,
     "metadata": {},
     "output_type": "execute_result"
    }
   ],
   "source": [
    "# Display variable for Safety\n",
    "data['Safety'].value_counts()"
   ]
  },
  {
   "cell_type": "code",
   "execution_count": 16,
   "metadata": {},
   "outputs": [
    {
     "data": {
      "text/plain": [
       "unacc    1210\n",
       "acc       384\n",
       "good       69\n",
       "vgood      65\n",
       "Name: Acceptability, dtype: int64"
      ]
     },
     "execution_count": 16,
     "metadata": {},
     "output_type": "execute_result"
    }
   ],
   "source": [
    "# Display variable for Acceptability\n",
    "data['Acceptability'].value_counts()"
   ]
  },
  {
   "cell_type": "code",
   "execution_count": 17,
   "metadata": {
    "scrolled": false
   },
   "outputs": [
    {
     "data": {
      "text/html": [
       "<div>\n",
       "<style scoped>\n",
       "    .dataframe tbody tr th:only-of-type {\n",
       "        vertical-align: middle;\n",
       "    }\n",
       "\n",
       "    .dataframe tbody tr th {\n",
       "        vertical-align: top;\n",
       "    }\n",
       "\n",
       "    .dataframe thead th {\n",
       "        text-align: right;\n",
       "    }\n",
       "</style>\n",
       "<table border=\"1\" class=\"dataframe\">\n",
       "  <thead>\n",
       "    <tr style=\"text-align: right;\">\n",
       "      <th></th>\n",
       "      <th>Price</th>\n",
       "      <th>Maintenance Costs</th>\n",
       "      <th>No of Doors</th>\n",
       "      <th>No of Passengers</th>\n",
       "      <th>Trunk Size</th>\n",
       "      <th>Safety</th>\n",
       "      <th>Acceptability</th>\n",
       "    </tr>\n",
       "  </thead>\n",
       "  <tbody>\n",
       "    <tr>\n",
       "      <th>1097</th>\n",
       "      <td>2</td>\n",
       "      <td>2</td>\n",
       "      <td>1</td>\n",
       "      <td>2</td>\n",
       "      <td>3</td>\n",
       "      <td>3</td>\n",
       "      <td>4</td>\n",
       "    </tr>\n",
       "    <tr>\n",
       "      <th>1106</th>\n",
       "      <td>2</td>\n",
       "      <td>2</td>\n",
       "      <td>1</td>\n",
       "      <td>3</td>\n",
       "      <td>3</td>\n",
       "      <td>3</td>\n",
       "      <td>4</td>\n",
       "    </tr>\n",
       "    <tr>\n",
       "      <th>1124</th>\n",
       "      <td>2</td>\n",
       "      <td>2</td>\n",
       "      <td>2</td>\n",
       "      <td>2</td>\n",
       "      <td>3</td>\n",
       "      <td>3</td>\n",
       "      <td>4</td>\n",
       "    </tr>\n",
       "    <tr>\n",
       "      <th>1130</th>\n",
       "      <td>2</td>\n",
       "      <td>2</td>\n",
       "      <td>2</td>\n",
       "      <td>3</td>\n",
       "      <td>2</td>\n",
       "      <td>3</td>\n",
       "      <td>4</td>\n",
       "    </tr>\n",
       "    <tr>\n",
       "      <th>1133</th>\n",
       "      <td>2</td>\n",
       "      <td>2</td>\n",
       "      <td>2</td>\n",
       "      <td>3</td>\n",
       "      <td>3</td>\n",
       "      <td>3</td>\n",
       "      <td>4</td>\n",
       "    </tr>\n",
       "    <tr>\n",
       "      <th>...</th>\n",
       "      <td>...</td>\n",
       "      <td>...</td>\n",
       "      <td>...</td>\n",
       "      <td>...</td>\n",
       "      <td>...</td>\n",
       "      <td>...</td>\n",
       "      <td>...</td>\n",
       "    </tr>\n",
       "    <tr>\n",
       "      <th>1700</th>\n",
       "      <td>1</td>\n",
       "      <td>1</td>\n",
       "      <td>3</td>\n",
       "      <td>3</td>\n",
       "      <td>3</td>\n",
       "      <td>3</td>\n",
       "      <td>4</td>\n",
       "    </tr>\n",
       "    <tr>\n",
       "      <th>1715</th>\n",
       "      <td>1</td>\n",
       "      <td>1</td>\n",
       "      <td>4</td>\n",
       "      <td>2</td>\n",
       "      <td>2</td>\n",
       "      <td>3</td>\n",
       "      <td>4</td>\n",
       "    </tr>\n",
       "    <tr>\n",
       "      <th>1718</th>\n",
       "      <td>1</td>\n",
       "      <td>1</td>\n",
       "      <td>4</td>\n",
       "      <td>2</td>\n",
       "      <td>3</td>\n",
       "      <td>3</td>\n",
       "      <td>4</td>\n",
       "    </tr>\n",
       "    <tr>\n",
       "      <th>1724</th>\n",
       "      <td>1</td>\n",
       "      <td>1</td>\n",
       "      <td>4</td>\n",
       "      <td>3</td>\n",
       "      <td>2</td>\n",
       "      <td>3</td>\n",
       "      <td>4</td>\n",
       "    </tr>\n",
       "    <tr>\n",
       "      <th>1727</th>\n",
       "      <td>1</td>\n",
       "      <td>1</td>\n",
       "      <td>4</td>\n",
       "      <td>3</td>\n",
       "      <td>3</td>\n",
       "      <td>3</td>\n",
       "      <td>4</td>\n",
       "    </tr>\n",
       "  </tbody>\n",
       "</table>\n",
       "<p>65 rows × 7 columns</p>\n",
       "</div>"
      ],
      "text/plain": [
       "      Price  Maintenance Costs  No of Doors  No of Passengers  Trunk Size  \\\n",
       "1097      2                  2            1                 2           3   \n",
       "1106      2                  2            1                 3           3   \n",
       "1124      2                  2            2                 2           3   \n",
       "1130      2                  2            2                 3           2   \n",
       "1133      2                  2            2                 3           3   \n",
       "...     ...                ...          ...               ...         ...   \n",
       "1700      1                  1            3                 3           3   \n",
       "1715      1                  1            4                 2           2   \n",
       "1718      1                  1            4                 2           3   \n",
       "1724      1                  1            4                 3           2   \n",
       "1727      1                  1            4                 3           3   \n",
       "\n",
       "      Safety  Acceptability  \n",
       "1097       3              4  \n",
       "1106       3              4  \n",
       "1124       3              4  \n",
       "1130       3              4  \n",
       "1133       3              4  \n",
       "...      ...            ...  \n",
       "1700       3              4  \n",
       "1715       3              4  \n",
       "1718       3              4  \n",
       "1724       3              4  \n",
       "1727       3              4  \n",
       "\n",
       "[65 rows x 7 columns]"
      ]
     },
     "execution_count": 17,
     "metadata": {},
     "output_type": "execute_result"
    }
   ],
   "source": [
    "object_data = data.select_dtypes(include=['object']).copy()\n",
    "\n",
    "# Encode Price from string to number\n",
    "object_data[\"Price\"]=object_data[\"Price\"].replace({\"low\":1})\n",
    "object_data[\"Price\"]=object_data[\"Price\"].replace({\"med\":2})\n",
    "object_data[\"Price\"]=object_data[\"Price\"].replace({\"high\":3})\n",
    "object_data[\"Price\"]=object_data[\"Price\"].replace({\"vhigh\":4})\n",
    "\n",
    "# Encode Maintenance Costs from string to number\n",
    "object_data[\"Maintenance Costs\"]=object_data[\"Maintenance Costs\"].replace({\"low\":1})\n",
    "object_data[\"Maintenance Costs\"]=object_data[\"Maintenance Costs\"].replace({\"med\":2})\n",
    "object_data[\"Maintenance Costs\"]=object_data[\"Maintenance Costs\"].replace({\"high\":3})\n",
    "object_data[\"Maintenance Costs\"]=object_data[\"Maintenance Costs\"].replace({\"vhigh\":4})\n",
    "\n",
    "# Encode Trunk Size from string to number\n",
    "object_data[\"Trunk Size\"]=object_data[\"Trunk Size\"].replace({\"small\":1})\n",
    "object_data[\"Trunk Size\"]=object_data[\"Trunk Size\"].replace({\"med\":2})\n",
    "object_data[\"Trunk Size\"]=object_data[\"Trunk Size\"].replace({\"big\":3})\n",
    "\n",
    "# Encode No of Doors Costs from string to number\n",
    "object_data[\"No of Doors\"]=object_data[\"No of Doors\"].replace({\"2\":1})\n",
    "object_data[\"No of Doors\"]=object_data[\"No of Doors\"].replace({\"3\":2})\n",
    "object_data[\"No of Doors\"]=object_data[\"No of Doors\"].replace({\"4\":3})\n",
    "object_data[\"No of Doors\"]=object_data[\"No of Doors\"].replace({\"5more\":4})\n",
    "\n",
    "\n",
    "# Encode No of Passengers Costs from string to number\n",
    "object_data[\"No of Passengers\"]=object_data[\"No of Passengers\"].replace({\"2\":1})\n",
    "object_data[\"No of Passengers\"]=object_data[\"No of Passengers\"].replace({\"4\":2})\n",
    "object_data[\"No of Passengers\"]=object_data[\"No of Passengers\"].replace({\"more\":3})\n",
    "\n",
    "# Encode Safety from string to number\n",
    "object_data[\"Safety\"]=object_data[\"Safety\"].replace({\"low\":1})\n",
    "object_data[\"Safety\"]=object_data[\"Safety\"].replace({\"med\":2})\n",
    "object_data[\"Safety\"]=object_data[\"Safety\"].replace({\"high\":3})\n",
    "\n",
    "# Encode Acceptability from string to number\n",
    "object_data[\"Acceptability\"]=object_data[\"Acceptability\"].replace({\"unacc\":1})\n",
    "object_data[\"Acceptability\"]=object_data[\"Acceptability\"].replace({\"acc\":2})\n",
    "object_data[\"Acceptability\"]=object_data[\"Acceptability\"].replace({\"good\":3})\n",
    "object_data[\"Acceptability\"]=object_data[\"Acceptability\"].replace({\"vgood\":4})\n",
    "\n",
    "object_data.loc[object_data['Acceptability']==4]\n"
   ]
  },
  {
   "cell_type": "markdown",
   "metadata": {},
   "source": [
    "## Detect Outlier inside dataset "
   ]
  },
  {
   "cell_type": "markdown",
   "metadata": {},
   "source": [
    "Detect and remove outlier from the dataset can help to improve accuracy of the machine learning model."
   ]
  },
  {
   "cell_type": "markdown",
   "metadata": {},
   "source": [
    "Detect Outlier:\n",
    "\n",
    "Method 1: Scatter Plot\n",
    "\n",
    "Scatter Plot able to show the relationship between two quatitative vrraibles."
   ]
  },
  {
   "cell_type": "code",
   "execution_count": 18,
   "metadata": {},
   "outputs": [
    {
     "data": {
      "image/png": "[encoded data removed]",
      "text/plain": [
       "<Figure size 864x432 with 1 Axes>"
      ]
     },
     "metadata": {
      "needs_background": "light"
     },
     "output_type": "display_data"
    }
   ],
   "source": [
    "import matplotlib.pyplot as plt\n",
    "\n",
    "fig, ax = plt.subplots(figsize=(12,6))\n",
    "ax.scatter(object_data['Price'], object_data['Acceptability'])\n",
    "ax.set_xlabel('Price')\n",
    "ax.set_ylabel('Acceptability')\n",
    "plt.show()"
   ]
  },
  {
   "cell_type": "markdown",
   "metadata": {},
   "source": [
    "## Validify the correctness of the datatype"
   ]
  },
  {
   "cell_type": "markdown",
   "metadata": {},
   "source": [
    "Based on the graph we are able to see the plot located at the most top is not following the shape of others plot. So it will be detected as outliers inside our dataset. I am going to remove it by calculating z-score to find out total number of outliers."
   ]
  },
  {
   "cell_type": "markdown",
   "metadata": {},
   "source": [
    "Method to detect outlier: Z-score\n",
    "\n",
    "The Z-score is the signed number of standard deviations by which the value of an observation or data point is above the mean value of what is being observed or measured. "
   ]
  },
  {
   "cell_type": "code",
   "execution_count": 19,
   "metadata": {},
   "outputs": [
    {
     "name": "stdout",
     "output_type": "stream",
     "text": [
      "[[1.34164079 1.34164079 1.34164079 ... 1.22474487 1.22474487 0.56034935]\n",
      " [1.34164079 1.34164079 1.34164079 ... 1.22474487 0.         0.56034935]\n",
      " [1.34164079 1.34164079 1.34164079 ... 1.22474487 1.22474487 0.56034935]\n",
      " ...\n",
      " [1.34164079 1.34164079 1.34164079 ... 1.22474487 1.22474487 0.56034935]\n",
      " [1.34164079 1.34164079 1.34164079 ... 1.22474487 0.         2.1405814 ]\n",
      " [1.34164079 1.34164079 1.34164079 ... 1.22474487 1.22474487 3.49104677]]\n"
     ]
    }
   ],
   "source": [
    "from scipy import stats\n",
    "import numpy as np\n",
    "\n",
    "# Calculate Z-score for each data \n",
    "z = np.abs(stats.zscore(object_data))\n",
    "print(z)"
   ]
  },
  {
   "cell_type": "markdown",
   "metadata": {},
   "source": [
    "Data with the Z-score grether than 3 will be recognize as outlier."
   ]
  },
  {
   "cell_type": "code",
   "execution_count": 20,
   "metadata": {},
   "outputs": [
    {
     "name": "stdout",
     "output_type": "stream",
     "text": [
      "(array([1097, 1106, 1124, 1130, 1133, 1148, 1151, 1157, 1160, 1175, 1178,\n",
      "       1184, 1187, 1205, 1214, 1232, 1238, 1241, 1256, 1259, 1265, 1268,\n",
      "       1283, 1286, 1292, 1295, 1421, 1430, 1448, 1454, 1457, 1472, 1475,\n",
      "       1481, 1484, 1499, 1502, 1508, 1511, 1529, 1538, 1556, 1562, 1565,\n",
      "       1580, 1583, 1589, 1592, 1607, 1610, 1616, 1619, 1637, 1646, 1664,\n",
      "       1670, 1673, 1688, 1691, 1697, 1700, 1715, 1718, 1724, 1727],\n",
      "      dtype=int64), array([6, 6, 6, 6, 6, 6, 6, 6, 6, 6, 6, 6, 6, 6, 6, 6, 6, 6, 6, 6, 6, 6,\n",
      "       6, 6, 6, 6, 6, 6, 6, 6, 6, 6, 6, 6, 6, 6, 6, 6, 6, 6, 6, 6, 6, 6,\n",
      "       6, 6, 6, 6, 6, 6, 6, 6, 6, 6, 6, 6, 6, 6, 6, 6, 6, 6, 6, 6, 6],\n",
      "      dtype=int64))\n"
     ]
    }
   ],
   "source": [
    "# Code display all the Z-score which is greater than 3\n",
    "threshold = 3\n",
    "print(np.where(z > 3))\n"
   ]
  },
  {
   "cell_type": "markdown",
   "metadata": {},
   "source": [
    "There are total of 65 outlier detected from the dataset"
   ]
  },
  {
   "cell_type": "code",
   "execution_count": 21,
   "metadata": {},
   "outputs": [
    {
     "data": {
      "text/plain": [
       "(1728, 7)"
      ]
     },
     "execution_count": 21,
     "metadata": {},
     "output_type": "execute_result"
    }
   ],
   "source": [
    "# Print no of rows of a database before removing outlier\n",
    "object_data.shape"
   ]
  },
  {
   "cell_type": "code",
   "execution_count": 22,
   "metadata": {
    "scrolled": false
   },
   "outputs": [
    {
     "data": {
      "text/plain": [
       "(1663, 7)"
      ]
     },
     "execution_count": 22,
     "metadata": {},
     "output_type": "execute_result"
    }
   ],
   "source": [
    "# Code to remove outlier\n",
    "# Keep data with z-score less than 3 only\n",
    "object_data = object_data[(z < 3).all(axis=1)]\n",
    "\n",
    "# Print no of rows of a database after removing outlier\n",
    "object_data.shape"
   ]
  },
  {
   "cell_type": "markdown",
   "metadata": {},
   "source": [
    "All vgood for Acceptability has been detected as outlier and removed from the data frame."
   ]
  },
  {
   "cell_type": "code",
   "execution_count": 23,
   "metadata": {
    "scrolled": true
   },
   "outputs": [
    {
     "name": "stdout",
     "output_type": "stream",
     "text": [
      "vgood: \n"
     ]
    },
    {
     "data": {
      "text/html": [
       "<div>\n",
       "<style scoped>\n",
       "    .dataframe tbody tr th:only-of-type {\n",
       "        vertical-align: middle;\n",
       "    }\n",
       "\n",
       "    .dataframe tbody tr th {\n",
       "        vertical-align: top;\n",
       "    }\n",
       "\n",
       "    .dataframe thead th {\n",
       "        text-align: right;\n",
       "    }\n",
       "</style>\n",
       "<table border=\"1\" class=\"dataframe\">\n",
       "  <thead>\n",
       "    <tr style=\"text-align: right;\">\n",
       "      <th></th>\n",
       "      <th>Price</th>\n",
       "      <th>Maintenance Costs</th>\n",
       "      <th>No of Doors</th>\n",
       "      <th>No of Passengers</th>\n",
       "      <th>Trunk Size</th>\n",
       "      <th>Safety</th>\n",
       "      <th>Acceptability</th>\n",
       "    </tr>\n",
       "  </thead>\n",
       "  <tbody>\n",
       "  </tbody>\n",
       "</table>\n",
       "</div>"
      ],
      "text/plain": [
       "Empty DataFrame\n",
       "Columns: [Price, Maintenance Costs, No of Doors, No of Passengers, Trunk Size, Safety, Acceptability]\n",
       "Index: []"
      ]
     },
     "execution_count": 23,
     "metadata": {},
     "output_type": "execute_result"
    }
   ],
   "source": [
    "# Check total number of vgood in Acceptability\n",
    "\n",
    "print(\"vgood: \")\n",
    "object_data.loc[object_data['Acceptability']==4]"
   ]
  },
  {
   "cell_type": "markdown",
   "metadata": {},
   "source": [
    "Below is the Scatter plot that showing the relationship between Price and Acceptability after removing the outliers. We can see that, the plot located as most top just now is completed remove from the dataset."
   ]
  },
  {
   "cell_type": "code",
   "execution_count": 24,
   "metadata": {},
   "outputs": [
    {
     "data": {
      "image/png": "[encoded data removed]",
      "text/plain": [
       "<Figure size 864x432 with 1 Axes>"
      ]
     },
     "metadata": {
      "needs_background": "light"
     },
     "output_type": "display_data"
    }
   ],
   "source": [
    "fig, ax = plt.subplots(figsize=(12,6))\n",
    "ax.scatter(object_data['Price'], object_data['Acceptability'])\n",
    "ax.set_xlabel('Income of applicants in USD')\n",
    "ax.set_ylabel('Loan amount applied for in USD')\n",
    "plt.show()"
   ]
  },
  {
   "cell_type": "markdown",
   "metadata": {},
   "source": [
    "# 2. Train Model"
   ]
  },
  {
   "cell_type": "markdown",
   "metadata": {},
   "source": [
    "## Identify feature and label"
   ]
  },
  {
   "cell_type": "code",
   "execution_count": 25,
   "metadata": {},
   "outputs": [],
   "source": [
    "#x = object_data[['Price', 'Maintenance Costs', 'Trunk Size', 'Safety', 'No of Doors', 'No of Passengers']]\n",
    "x = object_data[['Price', 'Maintenance Costs', 'Trunk Size', 'No of Doors', 'No of Passengers', 'Safety']]\n",
    "y = object_data['Acceptability']"
   ]
  },
  {
   "cell_type": "markdown",
   "metadata": {},
   "source": [
    "## Split data into training and testing sets"
   ]
  },
  {
   "cell_type": "markdown",
   "metadata": {},
   "source": [
    "To avoid over fitting\n",
    "\n",
    "70% of data use for training \n",
    "30% of data use for testing"
   ]
  },
  {
   "cell_type": "code",
   "execution_count": 26,
   "metadata": {},
   "outputs": [
    {
     "data": {
      "text/plain": [
       "Series([], Name: Acceptability, dtype: int64)"
      ]
     },
     "execution_count": 26,
     "metadata": {},
     "output_type": "execute_result"
    }
   ],
   "source": [
    "# code to split data into training and test set\n",
    "from sklearn.model_selection import train_test_split\n",
    "X_train, X_test, y_train, y_test = train_test_split(x, y, test_size=0.3, random_state=42)\n",
    "\n",
    "#print(X_train_cv.toarray().shape)\n",
    "y_test.loc[object_data['Acceptability']==4]"
   ]
  },
  {
   "cell_type": "markdown",
   "metadata": {},
   "source": [
    "## Build Machine Learning Model"
   ]
  },
  {
   "cell_type": "code",
   "execution_count": 27,
   "metadata": {},
   "outputs": [],
   "source": [
    "# Import neccessary library for Decision Tree classifier\n",
    "import numpy as np\n",
    "from sklearn.tree import DecisionTreeClassifier # Import Decision Tree Classifier\n",
    "\n",
    "# Create Decision Tree Classifier\n",
    "clf = DecisionTreeClassifier()\n",
    "\n"
   ]
  },
  {
   "cell_type": "markdown",
   "metadata": {},
   "source": [
    "Train model using training set\n",
    "\n",
    "70% from the original dataset"
   ]
  },
  {
   "cell_type": "code",
   "execution_count": 28,
   "metadata": {
    "scrolled": false
   },
   "outputs": [
    {
     "data": {
      "text/plain": [
       "DecisionTreeClassifier()"
      ]
     },
     "execution_count": 28,
     "metadata": {},
     "output_type": "execute_result"
    }
   ],
   "source": [
    "# Train the model using training dataset\n",
    "clf.fit(X_train, y_train)"
   ]
  },
  {
   "cell_type": "markdown",
   "metadata": {},
   "source": [
    "## Test the machine learning model"
   ]
  },
  {
   "cell_type": "markdown",
   "metadata": {},
   "source": [
    "Perform testing on the machine learning model to see the predicted output based on the test data"
   ]
  },
  {
   "cell_type": "code",
   "execution_count": 29,
   "metadata": {
    "scrolled": false
   },
   "outputs": [
    {
     "data": {
      "text/plain": [
       "(499, 6)"
      ]
     },
     "execution_count": 29,
     "metadata": {},
     "output_type": "execute_result"
    }
   ],
   "source": [
    "X_test.shape"
   ]
  },
  {
   "cell_type": "code",
   "execution_count": 30,
   "metadata": {
    "scrolled": true
   },
   "outputs": [
    {
     "data": {
      "text/plain": [
       "array([1, 1, 1, 1, 1, 1, 1, 1, 1, 1, 2, 2, 1, 2, 1, 1, 1, 1, 1, 1, 1, 1,\n",
       "       1, 1, 1, 1, 2, 1, 1, 3, 1, 1, 3, 1, 1, 2, 1, 1, 1, 2, 1, 1, 1, 2,\n",
       "       1, 2, 1, 1, 1, 1, 1, 2, 1, 1, 1, 1, 1, 1, 2, 1, 1, 1, 1, 1, 1, 2,\n",
       "       1, 1, 1, 1, 1, 2, 1, 1, 1, 3, 1, 2, 2, 1, 1, 1, 1, 3, 1, 1, 2, 1,\n",
       "       2, 1, 2, 1, 1, 1, 2, 3, 1, 1, 2, 2, 2, 1, 1, 1, 2, 1, 1, 1, 1, 2,\n",
       "       1, 1, 2, 2, 1, 2, 2, 1, 1, 2, 1, 1, 1, 2, 1, 1, 1, 1, 1, 2, 1, 1,\n",
       "       1, 1, 1, 1, 1, 1, 1, 1, 1, 1, 2, 1, 1, 1, 1, 1, 1, 1, 1, 1, 1, 2,\n",
       "       2, 1, 1, 1, 1, 1, 1, 1, 1, 2, 2, 2, 1, 1, 1, 1, 1, 2, 1, 1, 1, 2,\n",
       "       1, 1, 1, 2, 1, 1, 1, 1, 2, 1, 1, 1, 1, 1, 1, 1, 1, 1, 1, 2, 1, 1,\n",
       "       1, 2, 1, 1, 1, 2, 1, 2, 2, 1, 1, 1, 1, 2, 1, 1, 1, 1, 1, 1, 1, 1,\n",
       "       1, 1, 1, 1, 2, 1, 1, 1, 1, 1, 1, 1, 2, 1, 1, 2, 1, 1, 2, 1, 1, 1,\n",
       "       1, 2, 2, 1, 1, 1, 2, 1, 1, 1, 1, 1, 1, 2, 1, 1, 2, 2, 1, 1, 1, 2,\n",
       "       1, 1, 2, 1, 1, 1, 1, 1, 1, 1, 1, 1, 1, 1, 1, 1, 2, 1, 1, 1, 1, 1,\n",
       "       1, 2, 1, 1, 1, 1, 1, 3, 1, 1, 1, 1, 1, 1, 2, 1, 3, 1, 1, 1, 1, 1,\n",
       "       3, 1, 1, 2, 3, 1, 1, 1, 2, 2, 1, 2, 2, 1, 3, 1, 1, 1, 1, 1, 2, 2,\n",
       "       1, 1, 1, 1, 2, 1, 1, 1, 1, 1, 1, 1, 1, 1, 1, 1, 1, 1, 1, 2, 2, 2,\n",
       "       2, 1, 1, 1, 2, 1, 1, 2, 1, 1, 2, 2, 1, 2, 1, 1, 1, 3, 3, 1, 1, 1,\n",
       "       2, 1, 2, 1, 1, 1, 1, 1, 1, 1, 2, 1, 1, 1, 1, 1, 1, 1, 2, 2, 1, 1,\n",
       "       2, 1, 2, 1, 1, 2, 1, 1, 2, 1, 1, 1, 1, 2, 1, 1, 1, 2, 1, 1, 1, 1,\n",
       "       1, 1, 2, 1, 2, 1, 1, 1, 1, 1, 3, 2, 1, 2, 1, 1, 1, 1, 1, 2, 1, 1,\n",
       "       1, 1, 2, 1, 1, 3, 1, 1, 2, 1, 1, 1, 1, 1, 1, 1, 1, 1, 1, 1, 1, 2,\n",
       "       1, 1, 2, 1, 2, 1, 2, 1, 1, 1, 1, 1, 1, 1, 1, 2, 1, 1, 1, 1, 1, 2,\n",
       "       3, 1, 2, 2, 1, 1, 1, 2, 1, 1, 2, 1, 1, 1, 1], dtype=int64)"
      ]
     },
     "execution_count": 30,
     "metadata": {},
     "output_type": "execute_result"
    }
   ],
   "source": [
    "test = [[1, 1, 3, 2, 3, 3]]\n",
    "y_pred = clf.predict(X_test)\n",
    "#y_pred = clf.predict(test)\n",
    "y_pred"
   ]
  },
  {
   "cell_type": "markdown",
   "metadata": {},
   "source": [
    "# 3. Access the machine learning model"
   ]
  },
  {
   "cell_type": "markdown",
   "metadata": {},
   "source": [
    "Access the machine learning by using confusion matrix and calculate accuracy, precision, recall and f1"
   ]
  },
  {
   "cell_type": "code",
   "execution_count": 31,
   "metadata": {
    "scrolled": true
   },
   "outputs": [
    {
     "name": "stdout",
     "output_type": "stream",
     "text": [
      "Accuracy: 0.98\n",
      "\n",
      "Precision: \n",
      "Precision for unacc: 0.9841\n",
      "Precision for acc: 0.9623\n",
      "Precision for good: 1.0\n",
      "Average precision: 0.9821\n",
      "\n",
      "Recall: \n",
      "Recall for unacc: 0.992\n",
      "Recall for acc: 0.9444\n",
      "Recall for : 0.9375\n",
      "Average Recall: 0.958\n",
      "\n",
      "F1 Score: 0.9699\n"
     ]
    },
    {
     "data": {
      "image/png": "[encoded data removed]",
      "text/plain": [
       "<Figure size 432x288 with 2 Axes>"
      ]
     },
     "metadata": {
      "needs_background": "light"
     },
     "output_type": "display_data"
    }
   ],
   "source": [
    "from sklearn.metrics import accuracy_score\n",
    "\n",
    "from sklearn.metrics import confusion_matrix\n",
    "import matplotlib.pyplot as plt\n",
    "import seaborn as sns\n",
    "%matplotlib inline\n",
    "cm = confusion_matrix(y_test, y_pred)\n",
    "sns.heatmap(cm, xticklabels=['Predicted Unaccepable', 'Predicted Acceptable', 'Predicted Good', 'Predicted Very Good'], yticklabels=['Actual Unaccepable', 'Actual Acceptable', 'Actual Good', 'Actual Very Good'],\n",
    "annot=True, fmt='d', annot_kws={'fontsize':20}, cmap=\"YlGnBu\");\n",
    "\n",
    "a,b,c = cm[0]\n",
    "d,e,f = cm[1]\n",
    "g,h,i = cm[2]\n",
    "\n",
    "a,b,c = cm[0]\n",
    "d,e,f = cm[1]\n",
    "g,h,i = cm[2]\n",
    "\n",
    "accuracy = round((a + e + i) / (a + b + c + d + e + f + g + h + i),4)\n",
    "\n",
    "# Calculate precision for predicted unacc\n",
    "precisionUnacc = round((a) / (a + d + g),4)\n",
    "# Calculate precision for predicted acc\n",
    "precisionAcc = round((e) / (b + e + h), 4)\n",
    "# Calculate precision for predicted good\n",
    "precisionGood = round((i) / (c + f + i), 4)\n",
    "# Calculate Average precision\n",
    "averagePrecision = round(((precisionUnacc + precisionAcc + precisionGood) / 3),4)\n",
    "\n",
    "# Calcuate recall for unacc\n",
    "recallUnacc = round((a / (a + b + c)),4)\n",
    "# Calcuate recall for acc\n",
    "recallAcc = round((e / (d + e + f)),4)\n",
    "# Calcuate recall for good\n",
    "recallGood = round((i / (g + h + i)),4)\n",
    "# Calculate avarage recall\n",
    "averageRecall = round(((recallUnacc + recallAcc + recallGood) / 3),4)\n",
    "\n",
    "# Calculate F1 Score\n",
    "f1 = round(2 * (averagePrecision * averageRecall) / (averagePrecision + averageRecall), 4)\n",
    "\n",
    "# Print accuracy\n",
    "print('Accuracy: {}'.format(accuracy))\n",
    "\n",
    "# Print presicion\n",
    "print('\\nPrecision: ')\n",
    "print('Precision for unacc: {}'.format(precisionUnacc))\n",
    "print('Precision for acc: {}'.format(precisionAcc))\n",
    "print('Precision for good: {}'.format(precisionGood))\n",
    "print('Average precision: {}' .format(averagePrecision))\n",
    "\n",
    "# Print recall\n",
    "print('\\nRecall: ')\n",
    "print('Recall for unacc: {}'.format(recallUnacc))\n",
    "print('Recall for acc: {}'.format(recallAcc))\n",
    "print('Recall for : {}'.format(recallGood))\n",
    "print('Average Recall: {}'.format(averageRecall))\n",
    "\n",
    "# Print f1 score\n",
    "print('\\nF1 Score: {}'.format(f1))\n",
    "\n",
    "# # Print accuracy without removing outlier\n",
    "# dtc = accuracy_score(y_test, y_pred)\n",
    "# print(dtc)"
   ]
  },
  {
   "cell_type": "code",
   "execution_count": 32,
   "metadata": {},
   "outputs": [],
   "source": [
    "import pickle\n",
    "\n",
    "pickle.dump(clf, open('car_acceptability.pkl', 'wb'))"
   ]
  },
  {
   "cell_type": "code",
   "execution_count": null,
   "metadata": {},
   "outputs": [],
   "source": []
  },
  {
   "cell_type": "code",
   "execution_count": null,
   "metadata": {},
   "outputs": [],
   "source": []
  },
  {
   "cell_type": "code",
   "execution_count": null,
   "metadata": {},
   "outputs": [],
   "source": []
  }
 ],
 "metadata": {
  "kernelspec": {
   "display_name": "Python 3",
   "language": "python",
   "name": "python3"
  },
  "language_info": {
   "codemirror_mode": {
    "name": "ipython",
    "version": 3
   },
   "file_extension": ".py",
   "mimetype": "text/x-python",
   "name": "python",
   "nbconvert_exporter": "python",
   "pygments_lexer": "ipython3",
   "version": "3.8.5"
  }
 },
 "nbformat": 4,
 "nbformat_minor": 4
}
